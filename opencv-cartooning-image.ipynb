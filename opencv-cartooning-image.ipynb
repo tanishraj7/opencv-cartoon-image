{
 "cells": [
  {
   "cell_type": "code",
   "execution_count": 1,
   "id": "25393e2e",
   "metadata": {},
   "outputs": [
    {
     "name": "stdout",
     "output_type": "stream",
     "text": [
      "Collecting opencv-python\n",
      "  Downloading opencv_python-4.10.0.84-cp37-abi3-win_amd64.whl (38.8 MB)\n",
      "     ---------------------------------------- 38.8/38.8 MB 9.8 MB/s eta 0:00:00\n",
      "Requirement already satisfied: numpy>=1.21.2 in c:\\users\\tanish raj singh\\anaconda3\\lib\\site-packages (from opencv-python) (1.23.5)\n",
      "Installing collected packages: opencv-python\n",
      "Successfully installed opencv-python-4.10.0.84\n"
     ]
    }
   ],
   "source": [
    "!pip install opencv-python"
   ]
  },
  {
   "cell_type": "code",
   "execution_count": 3,
   "id": "9fc325a0",
   "metadata": {},
   "outputs": [],
   "source": [
    "#Cartoonizer effect a class that applies a cartoon effect to an image.\n",
    "#it uses bilatal filter and adaptive thresholding to create a cartoon effect."
   ]
  },
  {
   "cell_type": "code",
   "execution_count": 11,
   "id": "837ec7a7",
   "metadata": {},
   "outputs": [],
   "source": [
    "import cv2\n",
    "\n",
    "class Cartoonizer:\n",
    "    def __init__(self):\n",
    "        pass\n",
    "    def render(self, img_rgb):\n",
    "        img_rgb= cv2.imread(img_rgb)\n",
    "        #img_rgb= cv2.resize(img_rgb, (400,400)) #resizing the image\n",
    "        numDownSamples= 2   #no. of downscaling steps\n",
    "        #Downscaling refers to reducing the size of an image. \n",
    "        #This involves decreasing the number of pixels, which can make the image smaller and faster to process.\n",
    "        numBilateralFilters= 55 #no. of bilateral filtering\n",
    "        #Bilateral filtering is an advanced filter that reduces noise in an image while preserving edges.\n",
    "        #--STEP1--\n",
    "        \n",
    "        #downsample an image using Gaussian pyramid\n",
    "        img_color = img_rgb\n",
    "        for _ in range(numDownSamples):\n",
    "            img_color = cv2.pyrDown(img_color)\n",
    "            \n",
    "        #repeatedly applying small bilateral filters\n",
    "        for _ in range(numBilateralFilters):\n",
    "            img_color= cv2.bilateralFilter(img_color, 9, 9, 7)\n",
    "            \n",
    "        for _ in range(numDownSamples):\n",
    "            img_color= cv2.pyrUp(img_color)\n",
    "            \n",
    "        #--STEP2--3--\n",
    "        img_gray= cv2.cvtColor(img_rgb, cv2.COLOR_RGB2GRAY)\n",
    "        img_blur= cv2.medianBlur(img_gray, 3)\n",
    "        #convert to gray scale to apply median blur\n",
    "        \n",
    "        #--STEP4--\n",
    "        img_edge= cv2.adaptiveThreshold(img_blur, 255,\n",
    "                                       cv2.ADAPTIVE_THRESH_MEAN_C,\n",
    "                                       cv2.THRESH_BINARY, 9, 2)\n",
    "        #to detect and enhance images\n",
    "        \n",
    "        #--STEP5--\n",
    "        #convert back to color so that it can be converted into a format which is suitable for combining (bitwise- AND operation)\n",
    "        (x,y,z)= img_color.shape\n",
    "        img_edge= cv2.resize(img_edge,(y,x))\n",
    "        img_edge= cv2.cvtColor(img_edge, cv2.COLOR_GRAY2RGB)\n",
    "        cv2.imwrite(\"edge.png\", img_edge)\n",
    "        return cv2.bitwise_and(img_color, img_edge)\n",
    "    \n",
    "    "
   ]
  },
  {
   "cell_type": "code",
   "execution_count": 12,
   "id": "8fd40b78",
   "metadata": {},
   "outputs": [
    {
     "name": "stdout",
     "output_type": "stream",
     "text": [
      "before: (check your task bar buddy!!)\n",
      "after: (check your task bar buddy!!)\n"
     ]
    }
   ],
   "source": [
    "tmp_canvas= Cartoonizer()\n",
    "\n",
    "file_name= \"ironman-test.png\"\n",
    "img= cv2.imread(file_name)\n",
    "res= tmp_canvas.render(file_name)\n",
    "edge= cv2.imread(\"edge.png\")\n",
    "\n",
    "print('before: (check your task bar buddy!!)')\n",
    "cv2.imshow('sample image', img)\n",
    "print('after: (check your task bar buddy!!)')\n",
    "cv2.imwrite('cartoon version.jpg', res)\n",
    "cv2.imshow('edges', edge )\n",
    "cv2.imshow('cartoon version', res)\n",
    "cv2.waitKey(0)\n",
    "cv2.destroyAllWindows()\n"
   ]
  },
  {
   "cell_type": "code",
   "execution_count": null,
   "id": "6e583d8a",
   "metadata": {},
   "outputs": [],
   "source": [
    "#gg"
   ]
  }
 ],
 "metadata": {
  "kernelspec": {
   "display_name": "Python 3 (ipykernel)",
   "language": "python",
   "name": "python3"
  },
  "language_info": {
   "codemirror_mode": {
    "name": "ipython",
    "version": 3
   },
   "file_extension": ".py",
   "mimetype": "text/x-python",
   "name": "python",
   "nbconvert_exporter": "python",
   "pygments_lexer": "ipython3",
   "version": "3.10.9"
  }
 },
 "nbformat": 4,
 "nbformat_minor": 5
}
